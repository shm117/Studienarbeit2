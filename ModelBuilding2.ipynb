{
 "cells": [
  {
   "cell_type": "code",
   "execution_count": 243,
   "metadata": {
    "ExecuteTime": {
     "end_time": "2018-10-13T19:51:34.638767Z",
     "start_time": "2018-10-13T19:51:34.609843Z"
    },
    "collapsed": true
   },
   "outputs": [],
   "source": [
    "import pandas as pd\n",
    "from sklearn.pipeline import Pipeline\n",
    "from sklearn.model_selection import KFold\n",
    "from sklearn.model_selection import cross_val_score\n",
    "from sklearn.preprocessing import RobustScaler\n",
    "from sklearn.model_selection import train_test_split\n",
    "import random\n",
    "import copy\n",
    "\n",
    "from sklearn.linear_model import LogisticRegression\n",
    "from sklearn.ensemble import RandomForestClassifier\n",
    "from sklearn.discriminant_analysis import LinearDiscriminantAnalysis\n",
    "from sklearn.svm import SVC #Support Vector Classifier\n",
    "\n",
    "from sklearn import linear_model\n",
    "from sklearn import metrics\n",
    "from sklearn.metrics import classification_report\n",
    "from patsy import dmatrices\n",
    "\n",
    "import seaborn as sns\n",
    "import matplotlib.pyplot as plt\n",
    "import numpy as np"
   ]
  },
  {
   "cell_type": "code",
   "execution_count": 2,
   "metadata": {
    "ExecuteTime": {
     "end_time": "2018-10-13T11:35:58.266368Z",
     "start_time": "2018-10-13T11:35:58.086454Z"
    },
    "collapsed": false
   },
   "outputs": [
    {
     "name": "stdout",
     "output_type": "stream",
     "text": [
      "AAPL\n",
      "         Date  Open  High  Low  Close    Volume  Opendiff  Closediff  \\\n",
      "0  2002-10-02  1.02  1.04  1.0   1.01  55477800     -0.02      -0.03   \n",
      "1  2002-10-03  1.01  1.04  1.0   1.02  53751600     -0.01       0.01   \n",
      "\n",
      "   Win_Open  Win_Close  Highdiff  Lowdiff  avgOpen_week  avgOpen_month  \\\n",
      "0       0.0        1.0       0.0      0.0        -0.006         0.0005   \n",
      "1       1.0        0.0       0.0      0.0        -0.014        -0.0005   \n",
      "\n",
      "   avgOpen_hyear  Win_open_week  Win_open_month  Win_open_hyear  \n",
      "0      -0.006417            0.0             1.0             1.0  \n",
      "1      -0.006500            0.0             1.0             1.0  \n",
      "MSFT\n",
      "         Date   Open   High    Low  Close   Volume  Opendiff  Closediff  \\\n",
      "0  2002-10-02  23.05  23.41  22.58  22.80  1690800      0.89      -0.32   \n",
      "1  2002-10-03  22.65  23.30  22.25  22.36  3368400     -0.40      -0.44   \n",
      "\n",
      "   Win_Open  Win_Close  Highdiff  Lowdiff  avgOpen_week  avgOpen_month  \\\n",
      "0       0.0        0.0      0.26     0.98        -0.030        -0.0335   \n",
      "1       1.0        0.0     -0.11    -0.33        -0.182        -0.0550   \n",
      "\n",
      "   avgOpen_hyear  Win_open_week  Win_open_month  Win_open_hyear  \n",
      "0      -0.037750            0.0             1.0             1.0  \n",
      "1      -0.044583            0.0             1.0             1.0  \n",
      "AMZN\n",
      "         Date   Open   High    Low  Close   Volume  Opendiff  Closediff  \\\n",
      "0  2002-10-02  16.81  17.64  16.70  17.01  8126300      0.58       0.06   \n",
      "1  2002-10-03  16.79  17.25  16.66  16.75  6199200     -0.02      -0.26   \n",
      "\n",
      "   Win_Open  Win_Close  Highdiff  Lowdiff  avgOpen_week  avgOpen_month  \\\n",
      "0       0.0        0.0      0.58     0.69         0.128         0.1075   \n",
      "1       1.0        0.0     -0.39    -0.04         0.172         0.1105   \n",
      "\n",
      "   avgOpen_hyear  Win_open_week  Win_open_month  Win_open_hyear  \n",
      "0       0.032583            0.0             1.0             1.0  \n",
      "1       0.028083            1.0             1.0             1.0  \n",
      "GOOGL\n",
      "         Date   Open   High    Low  Close    Volume  Opendiff  Closediff  \\\n",
      "0  2005-02-10  96.08  96.20  92.72  94.08  18986725     -4.40      -1.81   \n",
      "1  2005-02-11  93.42  96.26  93.13  93.79  13126137     -2.66      -0.29   \n",
      "\n",
      "   Win_Open  Win_Close  Highdiff  Lowdiff  avgOpen_week  avgOpen_month  \\\n",
      "0       0.0        0.0     -4.70    -2.10        -1.404        -0.0590   \n",
      "1       0.0        1.0      0.06     0.41        -1.984        -0.2185   \n",
      "\n",
      "   avgOpen_hyear  Win_open_week  Win_open_month  Win_open_hyear  \n",
      "0       0.377417            1.0             0.0             1.0  \n",
      "1       0.316500            1.0             0.0             1.0  \n"
     ]
    }
   ],
   "source": [
    "tickersymbols=['AAPL', 'MSFT', 'AMZN', 'GOOGL']\n",
    "\n",
    "stocks={}\n",
    "for k in tickersymbols:\n",
    "    df=pd.read_csv( k +'_prepared.csv')\n",
    "    df.set_index('Date')\n",
    "    stocks[k]=df.drop(['Unnamed: 0', 'Timediff'], axis=1)\n",
    "    print(k)\n",
    "    print(stocks[k].head(2))"
   ]
  },
  {
   "cell_type": "markdown",
   "metadata": {},
   "source": [
    "# Ersetzen von High und Low durch Diff"
   ]
  },
  {
   "cell_type": "code",
   "execution_count": 3,
   "metadata": {
    "ExecuteTime": {
     "end_time": "2018-10-13T11:36:00.537712Z",
     "start_time": "2018-10-13T11:36:00.422349Z"
    },
    "collapsed": false
   },
   "outputs": [],
   "source": [
    "for k in stocks.keys():\n",
    "    stocks[k].loc[:,'Diff'] = stocks[k].loc[:, 'High'] - stocks[k].loc[:, 'Low']\n",
    "    stocks[k].drop(['High', 'Low'], axis=1, inplace=True)"
   ]
  },
  {
   "cell_type": "code",
   "execution_count": 4,
   "metadata": {
    "ExecuteTime": {
     "end_time": "2018-10-13T11:36:02.035028Z",
     "start_time": "2018-10-13T11:36:02.030030Z"
    },
    "collapsed": false
   },
   "outputs": [],
   "source": [
    "estimators = [('robustScaling', RobustScaler()), ('clf', SVC(gamma=0.01))]\n",
    "pipe = Pipeline(estimators)"
   ]
  },
  {
   "cell_type": "code",
   "execution_count": 15,
   "metadata": {
    "ExecuteTime": {
     "end_time": "2018-10-13T11:37:36.290238Z",
     "start_time": "2018-10-13T11:37:36.287246Z"
    },
    "collapsed": true
   },
   "outputs": [],
   "source": [
    "#model = pipe.fit(x_train, y_train)"
   ]
  },
  {
   "cell_type": "markdown",
   "metadata": {},
   "source": [
    "# Zufälliges Auswählen von Trainingsdaten für Monat und Halbjahr"
   ]
  },
  {
   "cell_type": "markdown",
   "metadata": {},
   "source": [
    "https://pandas.pydata.org/pandas-docs/stable/generated/pandas.DataFrame.sample.html"
   ]
  },
  {
   "cell_type": "code",
   "execution_count": 16,
   "metadata": {
    "ExecuteTime": {
     "end_time": "2018-10-13T11:37:42.480460Z",
     "start_time": "2018-10-13T11:37:42.430472Z"
    },
    "collapsed": false
   },
   "outputs": [],
   "source": [
    "wins=stocks['AAPL'].loc[stocks['AAPL']['Win_open_week']==1]\n",
    "loses=stocks['AAPL'].loc[stocks['AAPL']['Win_open_week']==0]\n",
    "\n",
    "#In den vorliegenden Datensätzen sind die Verlustdaten immer weniger als die Gewinndaten\n",
    "numberOfSamples = loses.shape[0]\n",
    "\n",
    "#\n",
    "week_df = loses.loc[:,['Diff','Volume', 'avgOpen_week', 'Win_open_week']]\n",
    "week_wins = wins.loc[:, ['Diff','Volume', 'avgOpen_week', 'Win_open_week']].sample(numberOfSamples, random_state=1)\n",
    "week_df=pd.concat([week_df, week_wins])\n",
    "\n",
    "\n",
    "########################################################################################\n",
    "wins=stocks['AAPL'].loc[stocks['AAPL']['Win_open_month']==1]\n",
    "loses=stocks['AAPL'].loc[stocks['AAPL']['Win_open_month']==0]\n",
    "numberOfSamples = loses.shape[0]\n",
    "\n",
    "#\n",
    "month_df = loses.loc[:,['Diff','Volume', 'avgOpen_month', 'Win_open_month']]\n",
    "month_wins = wins.loc[:, ['Diff','Volume', 'avgOpen_month', 'Win_open_month']].sample(numberOfSamples, random_state=1)\n",
    "month_df=pd.concat([month_df, month_wins])\n",
    "\n",
    "########################################################################################\n",
    "wins=stocks['AAPL'].loc[stocks['AAPL']['Win_open_hyear']==1]\n",
    "loses=stocks['AAPL'].loc[stocks['AAPL']['Win_open_hyear']==0]\n",
    "numberOfSamples = loses.shape[0]\n",
    "\n",
    "#\n",
    "hyear_df = loses.loc[:,['Diff','Volume', 'avgOpen_hyear', 'Win_open_hyear']]\n",
    "hyear_wins = wins.loc[:, ['Diff','Volume', 'avgOpen_hyear', 'Win_open_hyear']].sample(numberOfSamples, random_state=1)\n",
    "hyear_df=pd.concat([hyear_df, hyear_wins])"
   ]
  },
  {
   "cell_type": "markdown",
   "metadata": {},
   "source": [
    "Ein Dictionary in der Form dict[stockname][timeframe] generieren, um später die Modelle einfach auf mehreren Daten trainieren lassen zu können"
   ]
  },
  {
   "cell_type": "code",
   "execution_count": 46,
   "metadata": {
    "ExecuteTime": {
     "end_time": "2018-10-13T12:49:10.004893Z",
     "start_time": "2018-10-13T12:49:09.906069Z"
    },
    "collapsed": false
   },
   "outputs": [],
   "source": [
    "time_dict={}\n",
    "stocks_training_data_dict = {}\n",
    "times=['week', 'month', 'hyear']\n",
    "\n",
    "for k in stocks.keys():\n",
    "\n",
    "    time_dict[k]={}\n",
    "    for t in times:\n",
    "        string_win = \"Win_open_\" + t\n",
    "        string_open = \"avgOpen_\" + t\n",
    "        wins=stocks[k].loc[stocks[k][string_win]==1]\n",
    "        loses=stocks[k].loc[stocks[k][string_win]==0]\n",
    "        numberOfSamples = loses.shape[0]\n",
    "        win_and_loss = loses.loc[:, ['Diff', 'Volume', string_open, string_win]]\n",
    "        temp_df = wins.loc[:, ['Diff', 'Volume', string_open, string_win]].sample(numberOfSamples, random_state=1)\n",
    "        win_and_loss = pd.concat([win_and_loss, temp_df]).sample(frac=1)#shuffle df\n",
    "        time_dict[t] = win_and_loss.copy()\n",
    "    stocks_training_data_dict[k] = copy.deepcopy(time_dict)\n",
    "        "
   ]
  },
  {
   "cell_type": "code",
   "execution_count": 17,
   "metadata": {
    "ExecuteTime": {
     "end_time": "2018-10-13T11:37:47.656007Z",
     "start_time": "2018-10-13T11:37:47.650025Z"
    },
    "collapsed": false
   },
   "outputs": [
    {
     "name": "stdout",
     "output_type": "stream",
     "text": [
      "(3232, 4)\n",
      "(2804, 4)\n",
      "(1502, 4)\n"
     ]
    }
   ],
   "source": [
    "print(week_df.shape)\n",
    "print(month_df.shape)\n",
    "print(hyear_df.shape)"
   ]
  },
  {
   "cell_type": "markdown",
   "metadata": {},
   "source": [
    "Im Folgenden wird kein klassischer Train-/Testsplit verwendet, sondern eine KFold Cross-Validation. Diese trainiert das Modell immer auf einem Teil der Daten und testet es auf einem anderen Teil. Wie groß die Anteile sein sollen, kann festgelegt werden."
   ]
  },
  {
   "cell_type": "code",
   "execution_count": 18,
   "metadata": {
    "ExecuteTime": {
     "end_time": "2018-10-13T11:37:50.506695Z",
     "start_time": "2018-10-13T11:37:50.502674Z"
    },
    "collapsed": true
   },
   "outputs": [],
   "source": [
    "n_folds = 10 #10 Anteile => Training auf 90%, Test auf 10%"
   ]
  },
  {
   "cell_type": "markdown",
   "metadata": {},
   "source": [
    "# Support Vector Machine"
   ]
  },
  {
   "cell_type": "code",
   "execution_count": 49,
   "metadata": {
    "ExecuteTime": {
     "end_time": "2018-10-13T12:51:55.734215Z",
     "start_time": "2018-10-13T12:51:55.730229Z"
    },
    "collapsed": true
   },
   "outputs": [],
   "source": [
    "estimators = [('robustScaling', RobustScaler()), ('clf', SVC(gamma=0.01))]\n",
    "pipe = Pipeline(estimators)"
   ]
  },
  {
   "cell_type": "markdown",
   "metadata": {},
   "source": [
    "## Woche"
   ]
  },
  {
   "cell_type": "code",
   "execution_count": 20,
   "metadata": {
    "ExecuteTime": {
     "end_time": "2018-10-13T11:37:54.533609Z",
     "start_time": "2018-10-13T11:37:54.525633Z"
    },
    "collapsed": false
   },
   "outputs": [],
   "source": [
    "week_df=week_df.sample(frac=1)#shuffle df\n",
    "X = week_df.loc[:,].values[:, 0:3]\n",
    "Y = week_df.loc[:,].values[:, 3:4]\n",
    "X=X.astype('float')\n",
    "Y=Y.astype('int')"
   ]
  },
  {
   "cell_type": "code",
   "execution_count": 21,
   "metadata": {
    "ExecuteTime": {
     "end_time": "2018-10-13T11:37:57.989723Z",
     "start_time": "2018-10-13T11:37:55.654968Z"
    },
    "collapsed": false
   },
   "outputs": [
    {
     "name": "stdout",
     "output_type": "stream",
     "text": [
      "[0.47530864 0.56790123 0.52012384 0.47058824 0.51702786 0.53250774\n",
      " 0.52631579 0.44582043 0.47678019 0.51702786]\n",
      "0.5049401827007607\n"
     ]
    }
   ],
   "source": [
    "seed = 7\n",
    "kfold = KFold(n_splits=n_folds, random_state=seed)\n",
    "results = cross_val_score(pipe, X, np.ravel(Y), cv=kfold)\n",
    "print(results)\n",
    "print(results.mean())"
   ]
  },
  {
   "cell_type": "markdown",
   "metadata": {},
   "source": [
    "## Monat"
   ]
  },
  {
   "cell_type": "code",
   "execution_count": 22,
   "metadata": {
    "ExecuteTime": {
     "end_time": "2018-10-13T11:37:59.982395Z",
     "start_time": "2018-10-13T11:37:58.207149Z"
    },
    "collapsed": false
   },
   "outputs": [
    {
     "name": "stdout",
     "output_type": "stream",
     "text": [
      "[0.53380783 0.48754448 0.60142349 0.53024911 0.575      0.54642857\n",
      " 0.53571429 0.63928571 0.58571429 0.50357143]\n",
      "0.5538739196746313\n"
     ]
    }
   ],
   "source": [
    "month_df=month_df.sample(frac=1)#shuffle df\n",
    "X = month_df.loc[:,].values[:, 0:3]\n",
    "Y = month_df.loc[:,].values[:, 3:4]\n",
    "X=X.astype('float')\n",
    "Y=Y.astype('int')\n",
    "\n",
    "seed = 7\n",
    "kfold = KFold(n_splits=n_folds, random_state=seed)\n",
    "results = cross_val_score(pipe, X, np.ravel(Y), cv=kfold)\n",
    "print(results)\n",
    "print(results.mean())"
   ]
  },
  {
   "cell_type": "markdown",
   "metadata": {},
   "source": [
    "## Halbjahr"
   ]
  },
  {
   "cell_type": "code",
   "execution_count": 23,
   "metadata": {
    "ExecuteTime": {
     "end_time": "2018-10-13T11:38:00.678564Z",
     "start_time": "2018-10-13T11:38:00.219770Z"
    },
    "collapsed": false
   },
   "outputs": [
    {
     "name": "stdout",
     "output_type": "stream",
     "text": [
      "[0.61589404 0.54966887 0.60666667 0.71333333 0.64       0.68\n",
      " 0.66       0.62       0.64666667 0.63333333]\n",
      "0.6365562913907284\n"
     ]
    }
   ],
   "source": [
    "hyear_df=hyear_df.sample(frac=1)#shuffle df\n",
    "X = hyear_df.loc[:,].values[:, 0:3]\n",
    "Y = hyear_df.loc[:,].values[:, 3:4]\n",
    "X=X.astype('float')\n",
    "Y=Y.astype('int')\n",
    "\n",
    "seed = 7\n",
    "kfold = KFold(n_splits=n_folds, random_state=seed)\n",
    "results = cross_val_score(pipe, X, np.ravel(Y), cv=kfold)\n",
    "print(results)\n",
    "print(results.mean())"
   ]
  },
  {
   "cell_type": "markdown",
   "metadata": {},
   "source": [
    "# Logistic Regression"
   ]
  },
  {
   "cell_type": "code",
   "execution_count": 24,
   "metadata": {
    "ExecuteTime": {
     "end_time": "2018-10-13T11:38:00.907921Z",
     "start_time": "2018-10-13T11:38:00.902933Z"
    },
    "collapsed": false
   },
   "outputs": [],
   "source": [
    "estimators_lr = [('robustScaling', RobustScaler()), ('clf', LogisticRegression(random_state=seed))]\n",
    "pipe_lr = Pipeline(estimators_lr)"
   ]
  },
  {
   "cell_type": "markdown",
   "metadata": {},
   "source": [
    "## Woche"
   ]
  },
  {
   "cell_type": "code",
   "execution_count": 25,
   "metadata": {
    "ExecuteTime": {
     "end_time": "2018-10-13T11:38:01.196180Z",
     "start_time": "2018-10-13T11:38:01.131322Z"
    },
    "collapsed": false
   },
   "outputs": [
    {
     "name": "stdout",
     "output_type": "stream",
     "text": [
      "[0.51234568 0.5154321  0.52631579 0.50464396 0.52321981 0.50773994\n",
      " 0.53560372 0.51083591 0.52941176 0.49535604]\n",
      "0.5160904712762298\n"
     ]
    }
   ],
   "source": [
    "week_df=week_df.sample(frac=1)#shuffle df\n",
    "X = week_df.loc[:,].values[:, 0:3]\n",
    "Y = week_df.loc[:,].values[:, 3:4]\n",
    "X=X.astype('float')\n",
    "Y=Y.astype('int')\n",
    "\n",
    "seed = 7\n",
    "kfold = KFold(n_splits=n_folds, random_state=seed)\n",
    "results = cross_val_score(pipe_lr, X, np.ravel(Y), cv=kfold)\n",
    "print(results)\n",
    "print(results.mean())"
   ]
  },
  {
   "cell_type": "markdown",
   "metadata": {},
   "source": [
    "## Monat"
   ]
  },
  {
   "cell_type": "code",
   "execution_count": 26,
   "metadata": {
    "ExecuteTime": {
     "end_time": "2018-10-13T11:38:01.514302Z",
     "start_time": "2018-10-13T11:38:01.442489Z"
    },
    "collapsed": false
   },
   "outputs": [
    {
     "name": "stdout",
     "output_type": "stream",
     "text": [
      "[0.58718861 0.59786477 0.58362989 0.5480427  0.57142857 0.55\n",
      " 0.56785714 0.56428571 0.58571429 0.55357143]\n",
      "0.570958312150483\n"
     ]
    }
   ],
   "source": [
    "month_df=month_df.sample(frac=1)#shuffle df\n",
    "X = month_df.loc[:,].values[:, 0:3]\n",
    "Y = month_df.loc[:,].values[:, 3:4]\n",
    "X=X.astype('float')\n",
    "Y=Y.astype('int')\n",
    "\n",
    "seed = 7\n",
    "kfold = KFold(n_splits=n_folds, random_state=seed)\n",
    "results = cross_val_score(pipe_lr, X, np.ravel(Y), cv=kfold)\n",
    "print(results)\n",
    "print(results.mean())"
   ]
  },
  {
   "cell_type": "markdown",
   "metadata": {},
   "source": [
    "## Halbjahr"
   ]
  },
  {
   "cell_type": "code",
   "execution_count": 27,
   "metadata": {
    "ExecuteTime": {
     "end_time": "2018-10-13T11:38:02.417610Z",
     "start_time": "2018-10-13T11:38:02.359766Z"
    },
    "collapsed": false
   },
   "outputs": [
    {
     "name": "stdout",
     "output_type": "stream",
     "text": [
      "[0.70198675 0.58940397 0.70666667 0.65333333 0.6        0.68\n",
      " 0.68       0.63333333 0.62666667 0.66666667]\n",
      "0.6538057395143488\n"
     ]
    }
   ],
   "source": [
    "hyear_df=hyear_df.sample(frac=1)#shuffle df\n",
    "X = hyear_df.loc[:,].values[:, 0:3]\n",
    "Y = hyear_df.loc[:,].values[:, 3:4]\n",
    "X=X.astype('float')\n",
    "Y=Y.astype('int')\n",
    "\n",
    "seed = 7\n",
    "kfold = KFold(n_splits=n_folds, random_state=seed)\n",
    "results = cross_val_score(pipe_lr, X, np.ravel(Y), cv=kfold)\n",
    "print(results)\n",
    "print(results.mean())"
   ]
  },
  {
   "cell_type": "markdown",
   "metadata": {},
   "source": [
    "# Random Forest Classifier"
   ]
  },
  {
   "cell_type": "code",
   "execution_count": 28,
   "metadata": {
    "ExecuteTime": {
     "end_time": "2018-10-13T11:38:04.346727Z",
     "start_time": "2018-10-13T11:38:04.343726Z"
    },
    "collapsed": true
   },
   "outputs": [],
   "source": [
    "estimators_rf = [('robustScaling', RobustScaler()), ('clf', RandomForestClassifier(random_state=seed))]\n",
    "pipe_rf = Pipeline(estimators_rf)"
   ]
  },
  {
   "cell_type": "markdown",
   "metadata": {},
   "source": [
    "## Woche"
   ]
  },
  {
   "cell_type": "code",
   "execution_count": 29,
   "metadata": {
    "ExecuteTime": {
     "end_time": "2018-10-13T11:38:05.723544Z",
     "start_time": "2018-10-13T11:38:05.280843Z"
    },
    "collapsed": false
   },
   "outputs": [
    {
     "name": "stdout",
     "output_type": "stream",
     "text": [
      "[0.5308642  0.5308642  0.49226006 0.53869969 0.53560372 0.53869969\n",
      " 0.52631579 0.49226006 0.52321981 0.51393189]\n",
      "0.5222719107136031\n"
     ]
    }
   ],
   "source": [
    "week_df=week_df.sample(frac=1)#shuffle df\n",
    "X = week_df.loc[:,].values[:, 0:3]\n",
    "Y = week_df.loc[:,].values[:, 3:4]\n",
    "X=X.astype('float')\n",
    "Y=Y.astype('int')\n",
    "\n",
    "seed = 7\n",
    "kfold = KFold(n_splits=n_folds, random_state=seed)\n",
    "results = cross_val_score(pipe_rf, X, np.ravel(Y), cv=kfold)\n",
    "print(results)\n",
    "print(results.mean())"
   ]
  },
  {
   "cell_type": "markdown",
   "metadata": {},
   "source": [
    "## Monat"
   ]
  },
  {
   "cell_type": "code",
   "execution_count": 30,
   "metadata": {
    "ExecuteTime": {
     "end_time": "2018-10-13T11:38:07.170923Z",
     "start_time": "2018-10-13T11:38:06.798231Z"
    },
    "collapsed": false
   },
   "outputs": [
    {
     "name": "stdout",
     "output_type": "stream",
     "text": [
      "[0.51601423 0.55516014 0.59430605 0.46619217 0.525      0.52142857\n",
      " 0.55357143 0.51785714 0.54285714 0.54642857]\n",
      "0.5338815455007626\n"
     ]
    }
   ],
   "source": [
    "month_df=month_df.sample(frac=1)#shuffle df\n",
    "X = month_df.loc[:,].values[:, 0:3]\n",
    "Y = month_df.loc[:,].values[:, 3:4]\n",
    "X=X.astype('float')\n",
    "Y=Y.astype('int')\n",
    "\n",
    "seed = 7\n",
    "kfold = KFold(n_splits=n_folds, random_state=seed)\n",
    "results = cross_val_score(pipe_rf, X, np.ravel(Y), cv=kfold)\n",
    "print(results)\n",
    "print(results.mean())"
   ]
  },
  {
   "cell_type": "markdown",
   "metadata": {},
   "source": [
    "## Halbjahr"
   ]
  },
  {
   "cell_type": "code",
   "execution_count": 31,
   "metadata": {
    "ExecuteTime": {
     "end_time": "2018-10-13T11:38:08.085333Z",
     "start_time": "2018-10-13T11:38:07.836627Z"
    },
    "collapsed": false
   },
   "outputs": [
    {
     "name": "stdout",
     "output_type": "stream",
     "text": [
      "[0.72847682 0.73509934 0.76       0.75333333 0.76       0.68\n",
      " 0.76666667 0.74       0.8        0.76      ]\n",
      "0.7483576158940397\n"
     ]
    }
   ],
   "source": [
    "hyear_df=hyear_df.sample(frac=1)#shuffle df\n",
    "X = hyear_df.loc[:,].values[:, 0:3]\n",
    "Y = hyear_df.loc[:,].values[:, 3:4]\n",
    "X=X.astype('float')\n",
    "Y=Y.astype('int')\n",
    "\n",
    "seed = 7\n",
    "kfold = KFold(n_splits=n_folds, random_state=seed)\n",
    "results = cross_val_score(pipe_rf, X, np.ravel(Y), cv=kfold)\n",
    "print(results)\n",
    "print(results.mean())"
   ]
  },
  {
   "cell_type": "markdown",
   "metadata": {},
   "source": [
    "ToDo: irgendwie Confusion Matrix oder F1 Score und etc. anschauen, bessere Metriken als nur Präzision"
   ]
  },
  {
   "cell_type": "markdown",
   "metadata": {},
   "source": [
    "# Messungen automatisieren "
   ]
  },
  {
   "cell_type": "markdown",
   "metadata": {},
   "source": [
    "## Support Vector Machine"
   ]
  },
  {
   "cell_type": "code",
   "execution_count": 98,
   "metadata": {
    "ExecuteTime": {
     "end_time": "2018-10-13T14:26:02.200921Z",
     "start_time": "2018-10-13T14:26:02.195908Z"
    },
    "collapsed": true
   },
   "outputs": [],
   "source": [
    "estimators_svm = [('robustScaling', RobustScaler()), ('clf', SVC( random_state=seed))]\n",
    "pipe_svm = Pipeline(estimators)"
   ]
  },
  {
   "cell_type": "code",
   "execution_count": 140,
   "metadata": {
    "ExecuteTime": {
     "end_time": "2018-10-13T15:11:26.841152Z",
     "start_time": "2018-10-13T15:11:06.415165Z"
    },
    "collapsed": false
   },
   "outputs": [
    {
     "name": "stdout",
     "output_type": "stream",
     "text": [
      "----------  MSFT  ----------  week  ----------\n",
      "[0.50424929 0.5325779  0.58640227 0.54957507 0.5694051  0.54390935\n",
      " 0.53824363 0.5694051  0.54261364 0.55113636]\n",
      "0.5487517705382436\n",
      "----------  MSFT  ----------  month  ----------\n",
      "[0.57142857 0.52795031 0.5310559  0.59937888 0.55279503 0.56521739\n",
      " 0.55279503 0.55279503 0.53894081 0.57632399]\n",
      "0.5568680946576111\n",
      "----------  MSFT  ----------  hyear  ----------\n",
      "[0.67028986 0.62318841 0.61956522 0.5942029  0.62181818 0.59636364\n",
      " 0.61818182 0.59636364 0.62545455 0.6       ]\n",
      "0.6165428194993412\n",
      "----------  GOOGL  ----------  week  ----------\n",
      "[0.52517986 0.55755396 0.53956835 0.50719424 0.51079137 0.54316547\n",
      " 0.4765343  0.54873646 0.51263538 0.53068592]\n",
      "0.5252045295171806\n",
      "----------  GOOGL  ----------  month  ----------\n",
      "[0.58461538 0.48076923 0.55212355 0.51737452 0.50965251 0.53667954\n",
      " 0.52509653 0.57915058 0.53667954 0.55598456]\n",
      "0.5378125928125927\n",
      "----------  GOOGL  ----------  hyear  ----------\n",
      "[0.57225434 0.6300578  0.53179191 0.52023121 0.56647399 0.50867052\n",
      " 0.59537572 0.61271676 0.5433526  0.59537572]\n",
      "0.5676300578034682\n",
      "----------  AMZN  ----------  week  ----------\n",
      "[0.45132743 0.46312684 0.51622419 0.48672566 0.53687316 0.49557522\n",
      " 0.49557522 0.49852507 0.46153846 0.5       ]\n",
      "0.4905491263898344\n",
      "----------  AMZN  ----------  month  ----------\n",
      "[0.51186441 0.47457627 0.46779661 0.51864407 0.48813559 0.55932203\n",
      " 0.54576271 0.5220339  0.42711864 0.5220339 ]\n",
      "0.503728813559322\n",
      "----------  AMZN  ----------  hyear  ----------\n",
      "[0.58928571 0.62053571 0.65919283 0.68161435 0.67713004 0.60538117\n",
      " 0.68609865 0.64125561 0.61434978 0.68161435]\n",
      "0.6456458199871877\n",
      "----------  AAPL  ----------  week  ----------\n",
      "[0.50617284 0.50617284 0.47678019 0.52321981 0.51702786 0.54489164\n",
      " 0.57585139 0.51393189 0.48606811 0.52941176]\n",
      "0.5179528341551045\n",
      "----------  AAPL  ----------  month  ----------\n",
      "[0.61921708 0.5088968  0.53736655 0.49822064 0.59285714 0.53571429\n",
      " 0.57142857 0.55357143 0.59285714 0.55      ]\n",
      "0.5560129639044229\n",
      "----------  AAPL  ----------  hyear  ----------\n",
      "[0.64900662 0.63576159 0.62666667 0.62       0.59333333 0.66\n",
      " 0.64666667 0.64       0.61333333 0.64666667]\n",
      "0.6331434878587195\n"
     ]
    }
   ],
   "source": [
    "result_dict_svm = {}\n",
    "for time in times:\n",
    "    result_dict_svm[time]=[]\n",
    "\n",
    "for k in stocks_training_data_dict.keys():\n",
    "    for time in times:\n",
    "        print(\"---------- \" , k , ' ---------- ', time , ' ----------')\n",
    "        X = stocks_training_data_dict[k][time].loc[:,].values[:, 0:3]\n",
    "        Y = stocks_training_data_dict[k][time].loc[:,].values[:, 3:4]\n",
    "        X=X.astype('float')\n",
    "        Y=Y.astype('int')\n",
    "\n",
    "        seed = 7\n",
    "        kfold = KFold(n_splits=n_folds, random_state=seed)\n",
    "        results = cross_val_score(pipe_svm, X, np.ravel(Y), cv=kfold)\n",
    "        print(results)\n",
    "        print(results.mean())\n",
    "        result_dict_svm[time].append(results.mean())"
   ]
  },
  {
   "cell_type": "markdown",
   "metadata": {},
   "source": [
    "## Logistische Regression"
   ]
  },
  {
   "cell_type": "code",
   "execution_count": 65,
   "metadata": {
    "ExecuteTime": {
     "end_time": "2018-10-13T13:30:25.731562Z",
     "start_time": "2018-10-13T13:30:25.727560Z"
    },
    "collapsed": true
   },
   "outputs": [],
   "source": [
    "estimators_lr = [('robustScaling', RobustScaler()), ('clf', LogisticRegression(random_state=seed))]\n",
    "pipe_lr = Pipeline(estimators_lr)"
   ]
  },
  {
   "cell_type": "code",
   "execution_count": 139,
   "metadata": {
    "ExecuteTime": {
     "end_time": "2018-10-13T15:10:54.310843Z",
     "start_time": "2018-10-13T15:10:53.817156Z"
    },
    "collapsed": false
   },
   "outputs": [
    {
     "name": "stdout",
     "output_type": "stream",
     "text": [
      "----------  MSFT  ----------  week  ----------\n",
      "[0.48725212 0.51558074 0.60623229 0.55807365 0.56373938 0.53541076\n",
      " 0.54390935 0.57507082 0.55965909 0.52556818]\n",
      "0.5470496394540303\n",
      "----------  MSFT  ----------  month  ----------\n",
      "[0.57453416 0.54037267 0.57142857 0.56521739 0.55590062 0.5621118\n",
      " 0.54968944 0.5621118  0.56074766 0.57009346]\n",
      "0.5612207581122657\n",
      "----------  MSFT  ----------  hyear  ----------\n",
      "[0.67028986 0.60507246 0.63043478 0.57246377 0.61454545 0.58181818\n",
      " 0.62909091 0.58545455 0.61454545 0.59272727]\n",
      "0.6096442687747036\n",
      "----------  GOOGL  ----------  week  ----------\n",
      "[0.55395683 0.55035971 0.52877698 0.44604317 0.52877698 0.56834532\n",
      " 0.4765343  0.53429603 0.566787   0.53790614]\n",
      "0.5291782458509726\n",
      "----------  GOOGL  ----------  month  ----------\n",
      "[0.53461538 0.51923077 0.51737452 0.5019305  0.52895753 0.53281853\n",
      " 0.57915058 0.55598456 0.53281853 0.54826255]\n",
      "0.5351143451143451\n",
      "----------  GOOGL  ----------  hyear  ----------\n",
      "[0.53757225 0.59537572 0.55491329 0.50867052 0.53757225 0.50867052\n",
      " 0.54913295 0.5433526  0.52023121 0.58959538]\n",
      "0.5445086705202312\n",
      "----------  AMZN  ----------  week  ----------\n",
      "[0.43952802 0.4660767  0.49852507 0.4660767  0.48377581 0.50737463\n",
      " 0.47787611 0.47492625 0.49408284 0.42011834]\n",
      "0.47283604754673514\n",
      "----------  AMZN  ----------  month  ----------\n",
      "[0.50508475 0.50508475 0.48813559 0.53898305 0.48135593 0.55254237\n",
      " 0.53898305 0.50169492 0.44067797 0.53559322]\n",
      "0.5088135593220339\n",
      "----------  AMZN  ----------  hyear  ----------\n",
      "[0.59375    0.64285714 0.65919283 0.66816143 0.67264574 0.60538117\n",
      " 0.65470852 0.65022422 0.632287   0.67264574]\n",
      "0.6451853779628444\n",
      "----------  AAPL  ----------  week  ----------\n",
      "[0.47839506 0.5617284  0.50773994 0.52012384 0.49226006 0.50464396\n",
      " 0.52941176 0.52631579 0.51083591 0.52321981]\n",
      "0.5154674540381454\n",
      "----------  AAPL  ----------  month  ----------\n",
      "[0.62633452 0.52313167 0.55516014 0.55516014 0.575      0.55\n",
      " 0.57142857 0.58571429 0.59285714 0.55714286]\n",
      "0.5691929334011184\n",
      "----------  AAPL  ----------  hyear  ----------\n",
      "[0.66887417 0.65562914 0.68666667 0.64       0.62666667 0.64666667\n",
      " 0.66       0.68666667 0.64       0.63333333]\n",
      "0.6544503311258278\n"
     ]
    }
   ],
   "source": [
    "result_dict_lr = {}\n",
    "for time in times:\n",
    "    result_dict_lr[time]=[]\n",
    "\n",
    "for k in stocks_training_data_dict.keys():\n",
    "    for time in times:\n",
    "        print(\"---------- \" , k , ' ---------- ', time , ' ----------')\n",
    "        X = stocks_training_data_dict[k][time].loc[:,].values[:, 0:3]\n",
    "        Y = stocks_training_data_dict[k][time].loc[:,].values[:, 3:4]\n",
    "        X=X.astype('float')\n",
    "        Y=Y.astype('int')\n",
    "\n",
    "        seed = 7\n",
    "        kfold = KFold(n_splits=n_folds, random_state=seed)\n",
    "        results = cross_val_score(pipe_lr, X, np.ravel(Y), cv=kfold)\n",
    "        print(results)\n",
    "        print(results.mean())\n",
    "        result_dict_lr[time].append(results.mean())"
   ]
  },
  {
   "cell_type": "markdown",
   "metadata": {},
   "source": [
    "## Random Forest"
   ]
  },
  {
   "cell_type": "code",
   "execution_count": 71,
   "metadata": {
    "ExecuteTime": {
     "end_time": "2018-10-13T13:39:52.151866Z",
     "start_time": "2018-10-13T13:39:52.145869Z"
    },
    "collapsed": true
   },
   "outputs": [],
   "source": [
    "estimators_rf = [('robustScaling', RobustScaler()), ('clf', RandomForestClassifier(random_state=seed))]\n",
    "pipe_rf = Pipeline(estimators_rf)"
   ]
  },
  {
   "cell_type": "code",
   "execution_count": 236,
   "metadata": {
    "ExecuteTime": {
     "end_time": "2018-10-13T18:35:40.225274Z",
     "start_time": "2018-10-13T18:35:34.865538Z"
    },
    "collapsed": false
   },
   "outputs": [
    {
     "name": "stdout",
     "output_type": "stream",
     "text": [
      "----------  MSFT  ----------  week  ----------\n",
      "[0.47308782 0.49858357 0.52974504 0.56090652 0.57790368 0.47025496\n",
      " 0.51274788 0.50141643 0.53977273 0.49147727]\n",
      "0.5155895892351274\n",
      "----------  MSFT  ----------  month  ----------\n",
      "[0.52795031 0.58695652 0.52484472 0.55900621 0.50931677 0.58074534\n",
      " 0.53726708 0.53726708 0.52336449 0.5482866 ]\n",
      "0.543500512760976\n",
      "----------  MSFT  ----------  hyear  ----------\n",
      "[0.65942029 0.57246377 0.62681159 0.59057971 0.62545455 0.6\n",
      " 0.64727273 0.63272727 0.59636364 0.58181818]\n",
      "0.6132911725955205\n",
      "----------  GOOGL  ----------  week  ----------\n",
      "[0.50719424 0.52877698 0.47482014 0.50359712 0.56115108 0.51079137\n",
      " 0.58844765 0.53429603 0.53790614 0.49819495]\n",
      "0.5245175700594757\n",
      "----------  GOOGL  ----------  month  ----------\n",
      "[0.53076923 0.54615385 0.54440154 0.4980695  0.52509653 0.50579151\n",
      " 0.54054054 0.56756757 0.57528958 0.52123552]\n",
      "0.5354915354915354\n",
      "----------  GOOGL  ----------  hyear  ----------\n",
      "[0.70520231 0.71098266 0.69364162 0.63583815 0.66473988 0.72254335\n",
      " 0.63583815 0.72254335 0.68786127 0.71676301]\n",
      "0.6895953757225435\n",
      "----------  AMZN  ----------  week  ----------\n",
      "[0.5339233  0.51327434 0.48082596 0.52212389 0.48377581 0.52507375\n",
      " 0.52212389 0.53982301 0.52366864 0.50887574]\n",
      "0.5153488331500585\n",
      "----------  AMZN  ----------  month  ----------\n",
      "[0.53898305 0.55932203 0.52542373 0.53898305 0.56610169 0.54237288\n",
      " 0.53559322 0.50847458 0.54237288 0.51864407]\n",
      "0.5376271186440678\n",
      "----------  AMZN  ----------  hyear  ----------\n",
      "[0.72767857 0.66517857 0.7264574  0.70403587 0.66816143 0.66367713\n",
      " 0.74439462 0.69058296 0.68609865 0.73991031]\n",
      "0.7016175528507367\n",
      "----------  AAPL  ----------  week  ----------\n",
      "[0.52160494 0.55864198 0.53250774 0.51702786 0.52631579 0.53250774\n",
      " 0.47987616 0.50154799 0.52631579 0.55727554]\n",
      "0.5253621526583343\n",
      "----------  AAPL  ----------  month  ----------\n",
      "[0.58362989 0.55871886 0.51601423 0.54092527 0.575      0.58214286\n",
      " 0.59642857 0.54642857 0.55       0.53571429]\n",
      "0.5585002541942043\n",
      "----------  AAPL  ----------  hyear  ----------\n",
      "[0.70198675 0.7615894  0.82666667 0.76       0.74666667 0.78\n",
      " 0.75333333 0.70666667 0.76666667 0.68666667]\n",
      "0.7490242825607064\n"
     ]
    }
   ],
   "source": [
    "result_dict_rf = {}\n",
    "for time in times:\n",
    "    result_dict_rf[time]=[]\n",
    "\n",
    "for k in stocks_training_data_dict.keys():\n",
    "    for time in times:\n",
    "        print(\"---------- \" , k , ' ---------- ', time , ' ----------')\n",
    "        X = stocks_training_data_dict[k][time].loc[:,].values[:, 0:3]\n",
    "        Y = stocks_training_data_dict[k][time].loc[:,].values[:, 3:4]\n",
    "        X=X.astype('float')\n",
    "        Y=Y.astype('int')\n",
    "\n",
    "        seed = 7\n",
    "        kfold = KFold(n_splits=n_folds, random_state=seed)\n",
    "        results = cross_val_score(pipe_rf, X, np.ravel(Y), cv=kfold)\n",
    "        print(results)\n",
    "        print(results.mean())\n",
    "        result_dict_rf[time].append(results.mean())"
   ]
  },
  {
   "cell_type": "markdown",
   "metadata": {},
   "source": [
    "# Vergleichen der Ergebnisse"
   ]
  },
  {
   "cell_type": "code",
   "execution_count": 269,
   "metadata": {
    "ExecuteTime": {
     "end_time": "2018-10-13T22:43:54.538147Z",
     "start_time": "2018-10-13T22:43:54.529172Z"
    },
    "collapsed": false
   },
   "outputs": [
    {
     "name": "stdout",
     "output_type": "stream",
     "text": [
      "---------- Logistische Regression ----------\n",
      "month  : [0.5612207581122657, 0.5351143451143451, 0.5088135593220339, 0.5691929334011184]\n",
      "week  : [0.5470496394540303, 0.5291782458509726, 0.47283604754673514, 0.5154674540381454]\n",
      "hyear  : [0.6096442687747036, 0.5445086705202312, 0.6451853779628444, 0.6544503311258278]\n",
      "---------- SVM ----------\n",
      "month  : [0.5568680946576111, 0.5378125928125927, 0.503728813559322, 0.5560129639044229]\n",
      "week  : [0.5487517705382436, 0.5252045295171806, 0.4905491263898344, 0.5179528341551045]\n",
      "hyear  : [0.6165428194993412, 0.5676300578034682, 0.6456458199871877, 0.6331434878587195]\n",
      "---------- Random Forest ----------\n",
      "month  : [0.543500512760976, 0.5354915354915354, 0.5376271186440678, 0.5585002541942043]\n",
      "week  : [0.5155895892351274, 0.5245175700594757, 0.5153488331500585, 0.5253621526583343]\n",
      "hyear  : [0.6132911725955205, 0.6895953757225435, 0.7016175528507367, 0.7490242825607064]\n"
     ]
    }
   ],
   "source": [
    "print(\"---------- Logistische Regression ----------\")\n",
    "for j in result_dict_lr.keys():\n",
    "    print(j, \" :\" ,result_dict_lr[j])\n",
    "\n",
    "print(\"---------- SVM ----------\")\n",
    "for j in result_dict_svm.keys():\n",
    "    print(j, \" :\" ,result_dict_svm[j])\n",
    "\n",
    "print(\"---------- Random Forest ----------\")\n",
    "for j in result_dict_rf.keys():\n",
    "    print(j, \" :\" ,result_dict_rf[j])"
   ]
  },
  {
   "cell_type": "code",
   "execution_count": 238,
   "metadata": {
    "ExecuteTime": {
     "end_time": "2018-10-13T18:35:47.336106Z",
     "start_time": "2018-10-13T18:35:46.659625Z"
    },
    "collapsed": false
   },
   "outputs": [
    {
     "data": {
      "image/png": "[encoded data removed]",
      "text/plain": [
       "<matplotlib.figure.Figure at 0x282f735c048>"
      ]
     },
     "metadata": {},
     "output_type": "display_data"
    }
   ],
   "source": [
    "x1 = np.linspace(0, len(times)-1, len(times))\n",
    "\n",
    "y11 = [sum(result_dict_lr['week'])/len(result_dict_lr['week']), \n",
    "       sum(result_dict_lr['month'])/len(result_dict_lr['month']), \n",
    "       sum(result_dict_lr['hyear'])/len(result_dict_lr['hyear'])]\n",
    "\n",
    "y21 = [sum(result_dict_svm['week'])/len(result_dict_svm['week']), \n",
    "       sum(result_dict_svm['month'])/len(result_dict_svm['month']), \n",
    "       sum(result_dict_svm['hyear'])/len(result_dict_svm['hyear'])]\n",
    "\n",
    "y31 = [sum(result_dict_rf['week'])/len(result_dict_rf['week']), \n",
    "       sum(result_dict_rf['month'])/len(result_dict_rf['month']), \n",
    "       sum(result_dict_rf['hyear'])/len(result_dict_rf['hyear'])]\n",
    "\n",
    "\n",
    "plt.figure(figsize=(15,12))\n",
    "\n",
    "plt.subplot(2, 2, 1)\n",
    "plt.title('Logistische Regression')\n",
    "l11,=plt.plot(x1, y11,  marker='o')\n",
    "plt.legend([l11],[\"Präzision\"],loc='upper left')\n",
    "plt.xlabel('diskreter Zeitraum, über den gemittelt wurde')\n",
    "plt.ylabel('Präzision der Vorhersage')\n",
    "\n",
    "plt.subplot(2, 2, 2)\n",
    "plt.title('Support Vector Machine')\n",
    "l21,=plt.plot(x1, y21,  marker='o')\n",
    "plt.legend([l21],[\"Präzision\"],loc='upper left')\n",
    "plt.xlabel('diskreter Zeitraum, über den gemittelt wurde')\n",
    "plt.ylabel('Präzision der Vorhersage')\n",
    "\n",
    "plt.subplot(2, 2, 3)\n",
    "plt.title('Random Forest Classifier')\n",
    "l31,=plt.plot(x1, y31,  marker='o')\n",
    "plt.legend([l31],[\"Präzision\"],loc='upper left')\n",
    "plt.xlabel('diskreter Zeitraum, über den gemittelt wurde')\n",
    "plt.ylabel('Präzision der Vorhersage')\n",
    "\n",
    "\n",
    "plt.show()"
   ]
  },
  {
   "cell_type": "code",
   "execution_count": 271,
   "metadata": {
    "ExecuteTime": {
     "end_time": "2018-10-13T22:49:32.318667Z",
     "start_time": "2018-10-13T22:49:31.759437Z"
    },
    "collapsed": false
   },
   "outputs": [
    {
     "name": "stdout",
     "output_type": "stream",
     "text": [
      "LR: 0.6134471620959018\n",
      "SVM: 0.6157405462871791\n",
      "RF: 0.6883820959323766\n"
     ]
    },
    {
     "data": {
      "image/png": "[encoded data removed]",
      "text/plain": [
       "<matplotlib.figure.Figure at 0x282fa19f898>"
      ]
     },
     "metadata": {},
     "output_type": "display_data"
    }
   ],
   "source": [
    "x1 = np.linspace(0, len(result_dict_lr['hyear'])-1, len(result_dict_lr['hyear']))\n",
    "\n",
    "y11 = result_dict_lr['hyear']\n",
    "\n",
    "y21 = result_dict_svm['hyear']\n",
    "\n",
    "y31 = result_dict_rf['hyear']\n",
    "plt.figure(figsize=(15,12))\n",
    "\n",
    "plt.subplot(2, 2, 1)\n",
    "plt.title('Logistische Regression')\n",
    "l11,=plt.plot(x1, y11,  marker='o')\n",
    "plt.legend([l11],[\"Präzision\"],loc='upper left')\n",
    "plt.xlabel('Aktie')\n",
    "plt.ylabel('Präzision der Vorhersage')\n",
    "\n",
    "plt.subplot(2, 2, 2)\n",
    "plt.title('Support Vector Machine')\n",
    "l21,=plt.plot(x1, y21,  marker='o')\n",
    "plt.legend([l21],[\"Präzision\"],loc='upper left')\n",
    "plt.xlabel('Aktie')\n",
    "plt.ylabel('Präzision der Vorhersage')\n",
    "\n",
    "plt.subplot(2, 2, 3)\n",
    "plt.title('Random Forest Classifier')\n",
    "l31,=plt.plot(x1, y31,  marker='o')\n",
    "plt.legend([l31],[\"Präzision\"],loc='upper left')\n",
    "plt.xlabel('Aktie')\n",
    "plt.ylabel('Präzision der Vorhersage')\n",
    "\n",
    "print('LR:', sum(y11)/len(y11))\n",
    "print('SVM:', sum(y21)/len(y21))\n",
    "print('RF:', sum(y31)/len(y31))\n",
    "plt.show()"
   ]
  },
  {
   "cell_type": "markdown",
   "metadata": {},
   "source": [
    "Der Random Forest Klassifikator erreicht bei der Apple-Aktie und einer Aggregation über ein halbes Jahr eine Präzision von um die 74%. Dieser Fall wird im Folgenden genauer untersucht"
   ]
  },
  {
   "cell_type": "code",
   "execution_count": 258,
   "metadata": {
    "ExecuteTime": {
     "end_time": "2018-10-13T19:56:57.111701Z",
     "start_time": "2018-10-13T19:56:56.809913Z"
    },
    "collapsed": false
   },
   "outputs": [
    {
     "name": "stdout",
     "output_type": "stream",
     "text": [
      "0.7473404255319149\n"
     ]
    },
    {
     "data": {
      "text/plain": [
       "<matplotlib.text.Text at 0x282f68fa278>"
      ]
     },
     "execution_count": 258,
     "metadata": {},
     "output_type": "execute_result"
    },
    {
     "data": {
      "image/png": "[encoded data removed]",
      "text/plain": [
       "<matplotlib.figure.Figure at 0x282f68fdda0>"
      ]
     },
     "metadata": {},
     "output_type": "display_data"
    }
   ],
   "source": [
    "%matplotlib inline\n",
    "X = stocks_training_data_dict['AAPL']['hyear'].loc[:,['Diff', 'Volume', 'avgOpen_hyear']]\n",
    "Y = stocks_training_data_dict['AAPL']['hyear'].loc[:,['Win_open_hyear']]\n",
    "\n",
    "X=X.astype('float')\n",
    "Y=Y.astype('int')\n",
    "\n",
    "x_train, x_test, y_train, y_test = train_test_split(X, Y, test_size=.25)\n",
    "\n",
    "pipe_rf.fit(x_train, np.ravel(y_train))\n",
    "\n",
    "predictionsRF=pipe_rf.predict(x_test)\n",
    "\n",
    "print(pipe_rf.score(x_test, y_test))\n",
    "\n",
    "cmRF=metrics.confusion_matrix(y_test, predictionsRF)\n",
    "\n",
    "plt.figure(figsize=(7,6))\n",
    "plt.title('Confusion Matrix für Apple, RFC, mit Vorverarbeitung')\n",
    "sns.heatmap(cmRF, annot=True, fmt=\".3f\", linewidths=.5, square=True, cmap='Blues_r')\n",
    "plt.ylabel('Richtige Klasse')\n",
    "plt.xlabel('Vorhergesagte Klasse')"
   ]
  },
  {
   "cell_type": "markdown",
   "metadata": {},
   "source": [
    "## Classification Report"
   ]
  },
  {
   "cell_type": "code",
   "execution_count": 259,
   "metadata": {
    "ExecuteTime": {
     "end_time": "2018-10-13T19:57:01.846777Z",
     "start_time": "2018-10-13T19:57:01.840790Z"
    },
    "collapsed": false
   },
   "outputs": [
    {
     "name": "stdout",
     "output_type": "stream",
     "text": [
      "             precision    recall  f1-score   support\n",
      "\n",
      "          0       0.74      0.81      0.77       200\n",
      "          1       0.76      0.67      0.71       176\n",
      "\n",
      "avg / total       0.75      0.75      0.75       376\n",
      "\n"
     ]
    }
   ],
   "source": [
    "print(classification_report(y_test, predictionsRF))"
   ]
  },
  {
   "cell_type": "code",
   "execution_count": 214,
   "metadata": {
    "ExecuteTime": {
     "end_time": "2018-10-13T17:30:21.929102Z",
     "start_time": "2018-10-13T17:30:21.919128Z"
    },
    "collapsed": false
   },
   "outputs": [
    {
     "name": "stdout",
     "output_type": "stream",
     "text": [
      "               importance\n",
      "Diff             0.357115\n",
      "avgOpen_hyear    0.341588\n",
      "Volume           0.301297\n"
     ]
    }
   ],
   "source": [
    "feature_importances = pd.DataFrame(pipe_rf.named_steps['clf'].feature_importances_,\n",
    "                                   index = x_train.columns,\n",
    "                                    columns=['importance']).sort_values('importance', ascending=False)\n",
    "print(feature_importances)"
   ]
  },
  {
   "cell_type": "markdown",
   "metadata": {},
   "source": [
    "# Das ganze nochmal mit den Rohdaten "
   ]
  },
  {
   "cell_type": "code",
   "execution_count": 91,
   "metadata": {
    "ExecuteTime": {
     "end_time": "2018-10-13T14:18:55.056724Z",
     "start_time": "2018-10-13T14:18:54.998870Z"
    },
    "collapsed": false
   },
   "outputs": [
    {
     "name": "stdout",
     "output_type": "stream",
     "text": [
      "AAPL\n",
      "         Date    Open    High     Low   Close    Volume\n",
      "0  2018-03-01  178.54  179.78  172.66  175.00  48801970\n",
      "1  2018-02-28  179.26  180.62  178.05  178.12  37782138\n",
      "MSFT\n",
      "         Date   Open   High    Low  Close    Volume\n",
      "0  2018-03-01  93.99  94.57  91.84  92.85  37135561\n",
      "1  2018-02-28  94.84  95.70  93.63  93.77  31167338\n",
      "AMZN\n",
      "         Date     Open     High     Low    Close   Volume\n",
      "0  2018-03-01  1513.60  1518.49  1465.0  1493.45  6835230\n",
      "1  2018-02-28  1519.51  1528.70  1512.0  1512.45  4515023\n",
      "GOOGL\n",
      "         Date     Open     High      Low    Close   Volume\n",
      "0  2018-03-01  1109.54  1111.27  1067.28  1071.41  2766856\n",
      "1  2018-02-28  1122.00  1127.65  1103.00  1103.92  2464619\n"
     ]
    }
   ],
   "source": [
    "stocks_unprepared={}\n",
    "for k in tickersymbols:\n",
    "    df=pd.read_csv( k +'.csv')\n",
    "    #print(k, df_unprepared.head())\n",
    "    df.set_index('Date')\n",
    "    stocks_unprepared[k]=df\n",
    "    print(k)\n",
    "    print(stocks_unprepared[k].head(2))"
   ]
  },
  {
   "cell_type": "markdown",
   "metadata": {},
   "source": [
    "# Sortierung des Dataframes umdrehen"
   ]
  },
  {
   "cell_type": "code",
   "execution_count": 92,
   "metadata": {
    "ExecuteTime": {
     "end_time": "2018-10-13T14:18:59.261622Z",
     "start_time": "2018-10-13T14:18:59.255639Z"
    },
    "collapsed": true
   },
   "outputs": [],
   "source": [
    "for k in stocks_unprepared.keys():\n",
    "    stocks_unprepared[k] = stocks_unprepared[k].iloc[::-1]\n",
    "    stocks_unprepared[k].reset_index(inplace=True, drop=True)"
   ]
  },
  {
   "cell_type": "markdown",
   "metadata": {},
   "source": [
    "# Hinzufügen einer Zielvariablen"
   ]
  },
  {
   "cell_type": "code",
   "execution_count": 93,
   "metadata": {
    "ExecuteTime": {
     "end_time": "2018-10-13T14:19:02.496984Z",
     "start_time": "2018-10-13T14:19:02.193740Z"
    },
    "collapsed": false
   },
   "outputs": [
    {
     "name": "stderr",
     "output_type": "stream",
     "text": [
      "C:\\Users\\Sorel\\Anaconda3\\lib\\site-packages\\pandas\\core\\indexing.py:357: SettingWithCopyWarning: \n",
      "A value is trying to be set on a copy of a slice from a DataFrame.\n",
      "Try using .loc[row_indexer,col_indexer] = value instead\n",
      "\n",
      "See the caveats in the documentation: http://pandas.pydata.org/pandas-docs/stable/indexing.html#indexing-view-versus-copy\n",
      "  self.obj[key] = _infer_fill_value(value)\n",
      "C:\\Users\\Sorel\\Anaconda3\\lib\\site-packages\\pandas\\core\\indexing.py:537: SettingWithCopyWarning: \n",
      "A value is trying to be set on a copy of a slice from a DataFrame.\n",
      "Try using .loc[row_indexer,col_indexer] = value instead\n",
      "\n",
      "See the caveats in the documentation: http://pandas.pydata.org/pandas-docs/stable/indexing.html#indexing-view-versus-copy\n",
      "  self.obj[item] = s\n"
     ]
    }
   ],
   "source": [
    "# Nachdem die Reihenfolge invertiert wurde: alte Daten oben, neuere nach unten hin\n",
    "# Differenz: df.iloc[1]-df.iloc[0]\n",
    "for k in stocks_unprepared.keys():\n",
    "    stocks_unprepared[k].loc[:,'Opendiff']=stocks_unprepared[k].loc[:, 'Open'].diff(periods=1)\n",
    "    stocks_unprepared[k].loc[:,'Closediff']=stocks_unprepared[k].loc[:, 'Close'].diff(periods=1)"
   ]
  },
  {
   "cell_type": "code",
   "execution_count": 94,
   "metadata": {
    "ExecuteTime": {
     "end_time": "2018-10-13T14:19:05.670551Z",
     "start_time": "2018-10-13T14:19:05.559847Z"
    },
    "collapsed": false
   },
   "outputs": [
    {
     "name": "stderr",
     "output_type": "stream",
     "text": [
      "C:\\Users\\Sorel\\Anaconda3\\lib\\site-packages\\pandas\\core\\indexing.py:357: SettingWithCopyWarning: \n",
      "A value is trying to be set on a copy of a slice from a DataFrame.\n",
      "Try using .loc[row_indexer,col_indexer] = value instead\n",
      "\n",
      "See the caveats in the documentation: http://pandas.pydata.org/pandas-docs/stable/indexing.html#indexing-view-versus-copy\n",
      "  self.obj[key] = _infer_fill_value(value)\n",
      "C:\\Users\\Sorel\\Anaconda3\\lib\\site-packages\\pandas\\core\\indexing.py:537: SettingWithCopyWarning: \n",
      "A value is trying to be set on a copy of a slice from a DataFrame.\n",
      "Try using .loc[row_indexer,col_indexer] = value instead\n",
      "\n",
      "See the caveats in the documentation: http://pandas.pydata.org/pandas-docs/stable/indexing.html#indexing-view-versus-copy\n",
      "  self.obj[item] = s\n"
     ]
    }
   ],
   "source": [
    "for k in stocks_unprepared.keys():\n",
    "    stocks_unprepared[k].loc[:,'Win_Open']=stocks_unprepared[k]['Opendiff'].apply(lambda x: 1 if (x>0) else 0)"
   ]
  },
  {
   "cell_type": "code",
   "execution_count": 95,
   "metadata": {
    "ExecuteTime": {
     "end_time": "2018-10-13T14:19:08.521502Z",
     "start_time": "2018-10-13T14:19:08.429699Z"
    },
    "collapsed": false
   },
   "outputs": [
    {
     "name": "stdout",
     "output_type": "stream",
     "text": [
      "         Date   Open   High    Low  Close    Volume  Opendiff  Closediff  \\\n",
      "1  2002-04-12  27.58  28.13  27.43  27.96  51226200     -0.36       0.56   \n",
      "2  2002-04-15  28.00  28.38  27.70  27.84  46014000      0.42      -0.12   \n",
      "3  2002-04-16  28.20  29.59  28.18  28.90  49688000      0.20       1.06   \n",
      "4  2002-04-17  28.98  29.14  28.21  28.32  53319400      0.78      -0.58   \n",
      "5  2002-04-18  28.40  28.75  26.34  28.18  53766600     -0.58      -0.14   \n",
      "\n",
      "   Win_Open  \n",
      "1         0  \n",
      "2         1  \n",
      "3         1  \n",
      "4         1  \n",
      "5         0  \n",
      "         Date   Open   High    Low  Close    Volume  Opendiff  Closediff  \\\n",
      "1  2004-08-20  50.79  54.59  50.30  54.21  11429498      0.73       3.99   \n",
      "2  2004-08-23  55.44  56.80  54.58  54.75   9140244      4.65       0.54   \n",
      "3  2004-08-24  55.68  55.86  51.84  52.49   7632224      0.24      -2.26   \n",
      "4  2004-08-25  52.53  54.05  51.99  53.05   4599110     -3.15       0.56   \n",
      "5  2004-08-26  52.53  54.03  52.38  54.01   3551168      0.00       0.96   \n",
      "\n",
      "   Win_Open  \n",
      "1         1  \n",
      "2         1  \n",
      "3         1  \n",
      "4         0  \n",
      "5         0  \n",
      "         Date   Open   High    Low  Close   Volume  Opendiff  Closediff  \\\n",
      "1  2002-04-12  12.90  13.61  12.85  13.31  5306400     -0.38       0.57   \n",
      "2  2002-04-15  13.42  14.10  13.35  13.89  4716600      0.52       0.58   \n",
      "3  2002-04-16  14.18  14.29  13.72  14.01  3599400      0.76       0.12   \n",
      "4  2002-04-17  14.24  15.00  14.24  14.82  7414300      0.06       0.81   \n",
      "5  2002-04-18  14.70  14.86  13.95  14.26  3737300      0.46      -0.56   \n",
      "\n",
      "   Win_Open  \n",
      "1         0  \n",
      "2         1  \n",
      "3         1  \n",
      "4         1  \n",
      "5         1  \n",
      "         Date  Open  High   Low  Close     Volume  Opendiff  Closediff  \\\n",
      "1  2002-04-12  1.79  1.80  1.76   1.79   78013600      0.00       0.01   \n",
      "2  2002-04-15  1.79  1.80  1.77   1.79   73782800      0.00       0.00   \n",
      "3  2002-04-16  1.80  1.86  1.79   1.84  152353600      0.01       0.05   \n",
      "4  2002-04-17  1.85  1.87  1.81   1.86   85362200      0.05       0.02   \n",
      "5  2002-04-18  1.82  1.83  1.77   1.82   95893000     -0.03      -0.04   \n",
      "\n",
      "   Win_Open  \n",
      "1         0  \n",
      "2         0  \n",
      "3         1  \n",
      "4         1  \n",
      "5         0  \n"
     ]
    },
    {
     "name": "stderr",
     "output_type": "stream",
     "text": [
      "C:\\Users\\Sorel\\Anaconda3\\lib\\site-packages\\ipykernel\\__main__.py:2: SettingWithCopyWarning: \n",
      "A value is trying to be set on a copy of a slice from a DataFrame\n",
      "\n",
      "See the caveats in the documentation: http://pandas.pydata.org/pandas-docs/stable/indexing.html#indexing-view-versus-copy\n",
      "  from ipykernel import kernelapp as app\n"
     ]
    }
   ],
   "source": [
    "for k in stocks_unprepared.keys():\n",
    "    stocks_unprepared[k].dropna(axis=0, inplace=True)\n",
    "    print(stocks_unprepared[k].head())"
   ]
  },
  {
   "cell_type": "markdown",
   "metadata": {},
   "source": [
    "# Verschieben der Zielvariablen"
   ]
  },
  {
   "cell_type": "code",
   "execution_count": 97,
   "metadata": {
    "ExecuteTime": {
     "end_time": "2018-10-13T14:20:52.074676Z",
     "start_time": "2018-10-13T14:20:52.010849Z"
    },
    "collapsed": false
   },
   "outputs": [
    {
     "name": "stderr",
     "output_type": "stream",
     "text": [
      "C:\\Users\\Sorel\\Anaconda3\\lib\\site-packages\\ipykernel\\__main__.py:2: FutureWarning: \n",
      "Passing list-likes to .loc or [] with any missing label will raise\n",
      "KeyError in the future, you can use .reindex() as an alternative.\n",
      "\n",
      "See the documentation here:\n",
      "http://pandas.pydata.org/pandas-docs/stable/indexing.html#deprecate-loc-reindex-listlike\n",
      "  from ipykernel import kernelapp as app\n",
      "C:\\Users\\Sorel\\Anaconda3\\lib\\site-packages\\pandas\\core\\indexing.py:1367: FutureWarning: \n",
      "Passing list-likes to .loc or [] with any missing label will raise\n",
      "KeyError in the future, you can use .reindex() as an alternative.\n",
      "\n",
      "See the documentation here:\n",
      "http://pandas.pydata.org/pandas-docs/stable/indexing.html#deprecate-loc-reindex-listlike\n",
      "  return self._getitem_tuple(key)\n",
      "C:\\Users\\Sorel\\Anaconda3\\lib\\site-packages\\pandas\\core\\indexing.py:537: SettingWithCopyWarning: \n",
      "A value is trying to be set on a copy of a slice from a DataFrame.\n",
      "Try using .loc[row_indexer,col_indexer] = value instead\n",
      "\n",
      "See the caveats in the documentation: http://pandas.pydata.org/pandas-docs/stable/indexing.html#indexing-view-versus-copy\n",
      "  self.obj[item] = s\n"
     ]
    }
   ],
   "source": [
    "for k in stocks_unprepared.keys():\n",
    "    stocks_unprepared[k].loc[:, ['Win_Open']]=stocks_unprepared[k].loc[:, ['Win_Open', 'Win_Close']].shift(-1)"
   ]
  },
  {
   "cell_type": "code",
   "execution_count": 123,
   "metadata": {
    "ExecuteTime": {
     "end_time": "2018-10-13T14:50:23.657442Z",
     "start_time": "2018-10-13T14:50:23.581619Z"
    },
    "collapsed": false
   },
   "outputs": [
    {
     "name": "stderr",
     "output_type": "stream",
     "text": [
      "C:\\Users\\Sorel\\Anaconda3\\lib\\site-packages\\ipykernel\\__main__.py:2: SettingWithCopyWarning: \n",
      "A value is trying to be set on a copy of a slice from a DataFrame\n",
      "\n",
      "See the caveats in the documentation: http://pandas.pydata.org/pandas-docs/stable/indexing.html#indexing-view-versus-copy\n",
      "  from ipykernel import kernelapp as app\n"
     ]
    }
   ],
   "source": [
    "for k in stocks_unprepared.keys():\n",
    "    stocks_unprepared[k].dropna(axis=0, inplace=True)"
   ]
  },
  {
   "cell_type": "markdown",
   "metadata": {},
   "source": [
    "# Lineare Regression "
   ]
  },
  {
   "cell_type": "code",
   "execution_count": 149,
   "metadata": {
    "ExecuteTime": {
     "end_time": "2018-10-13T15:27:28.962132Z",
     "start_time": "2018-10-13T15:27:28.608081Z"
    },
    "collapsed": false
   },
   "outputs": [
    {
     "name": "stdout",
     "output_type": "stream",
     "text": [
      "MSFT\n",
      "[0.785      0.825      0.815      0.8375     0.835      0.835\n",
      " 0.79       0.8275     0.80701754 0.81453634]\n",
      "0.8171553884711779\n",
      "GOOGL\n",
      "[0.61290323 0.63636364 0.63929619 0.63049853 0.61764706 0.66470588\n",
      " 0.61764706 0.67058824 0.62352941 0.63529412]\n",
      "0.6348473348283594\n",
      "AMZN\n",
      "[0.625      0.65       0.5675     0.64       0.685      0.5475\n",
      " 0.6825     0.6425     0.61152882 0.56892231]\n",
      "0.6220451127819548\n",
      "AAPL\n",
      "[0.5875     0.5525     0.5325     0.525      0.5225     0.555\n",
      " 0.515      0.5275     0.53634085 0.56641604]\n",
      "0.5420256892230577\n",
      "27.512969924812015\n"
     ]
    }
   ],
   "source": [
    "results_lr_up = []\n",
    "for k in stocks_unprepared.keys():\n",
    "    print(k)\n",
    "    stocks_unprepared[k] = stocks_unprepared[k].sample(frac=1)#shuffle df\n",
    "    X = stocks_unprepared[k].loc[:,].values[:, 1:6]#Open, High, Low, Close, Volume\n",
    "    Y = stocks_unprepared[k].loc[:,].values[:, 8:9]#Win_open\n",
    "    X=X.astype('float')\n",
    "    Y=Y.astype('int')\n",
    "\n",
    "    seed = 7\n",
    "    kfold = KFold(n_splits=n_folds, random_state=seed)\n",
    "    results = cross_val_score(pipe_lr, X, np.ravel(Y), cv=kfold)\n",
    "    print(results)\n",
    "    print(results.mean())\n",
    "    results_lr_up.append(results.mean())\n",
    "print((np.max(results_lr_up)-np.min(results_lr_up))*100)"
   ]
  },
  {
   "cell_type": "markdown",
   "metadata": {},
   "source": [
    "# SVM"
   ]
  },
  {
   "cell_type": "code",
   "execution_count": 148,
   "metadata": {
    "ExecuteTime": {
     "end_time": "2018-10-13T15:26:00.911927Z",
     "start_time": "2018-10-13T15:25:44.834054Z"
    },
    "collapsed": false
   },
   "outputs": [
    {
     "name": "stdout",
     "output_type": "stream",
     "text": [
      "MSFT\n",
      "[0.4725     0.5075     0.5025     0.49       0.505      0.5075\n",
      " 0.52       0.495      0.55889724 0.55137845]\n",
      "0.5110275689223058\n",
      "GOOGL\n",
      "[0.50146628 0.51906158 0.52785924 0.5542522  0.53235294 0.51470588\n",
      " 0.51764706 0.55       0.51470588 0.52352941]\n",
      "0.5255580472658271\n",
      "AMZN\n",
      "[0.51       0.51       0.4825     0.5275     0.5025     0.5425\n",
      " 0.5425     0.56       0.54385965 0.54385965]\n",
      "0.5265219298245615\n",
      "AAPL\n",
      "[0.4625     0.595      0.585      0.5425     0.525      0.5275\n",
      " 0.5275     0.5125     0.46365915 0.52631579]\n",
      "0.5267474937343358\n",
      "1.5719924812029995\n"
     ]
    }
   ],
   "source": [
    "results_svm_up = []\n",
    "for k in stocks_unprepared.keys():\n",
    "    print(k)\n",
    "    stocks_unprepared[k] = stocks_unprepared[k].sample(frac=1)#shuffle df\n",
    "    X = stocks_unprepared[k].loc[:,].values[:, 1:6]#Open, High, Low, Close, Volume\n",
    "    Y = stocks_unprepared[k].loc[:,].values[:, 8:9]#Win_open\n",
    "    X=X.astype('float')\n",
    "    Y=Y.astype('int')\n",
    "\n",
    "    seed = 7\n",
    "    kfold = KFold(n_splits=n_folds, random_state=seed)\n",
    "    results = cross_val_score(pipe_svm, X, np.ravel(Y), cv=kfold)\n",
    "    print(results)\n",
    "    print(results.mean())\n",
    "    results_svm_up.append(results.mean())\n",
    "print((np.max(results_svm_up)-np.min(results_svm_up))*100)"
   ]
  },
  {
   "cell_type": "markdown",
   "metadata": {},
   "source": [
    "# Random Forest"
   ]
  },
  {
   "cell_type": "code",
   "execution_count": 147,
   "metadata": {
    "ExecuteTime": {
     "end_time": "2018-10-13T15:22:36.815619Z",
     "start_time": "2018-10-13T15:22:32.548989Z"
    },
    "collapsed": false
   },
   "outputs": [
    {
     "name": "stdout",
     "output_type": "stream",
     "text": [
      "MSFT\n",
      "[0.685      0.715      0.72       0.7075     0.68       0.7025\n",
      " 0.6825     0.69       0.72431078 0.69423559]\n",
      "0.7001046365914786\n",
      "GOOGL\n",
      "[0.64222874 0.62756598 0.60997067 0.68621701 0.64411765 0.56764706\n",
      " 0.64117647 0.68823529 0.64117647 0.61764706]\n",
      "0.6365982404692083\n",
      "AMZN\n",
      "[0.6675     0.6575     0.65       0.63       0.6525     0.7025\n",
      " 0.7        0.69       0.67669173 0.62406015]\n",
      "0.6650751879699248\n",
      "AAPL\n",
      "[0.6075     0.6575     0.6475     0.6175     0.67       0.595\n",
      " 0.6275     0.6575     0.64411028 0.64160401]\n",
      "0.6365714285714286\n",
      "6.353320802005003\n"
     ]
    }
   ],
   "source": [
    "results_rf_up = []\n",
    "for k in stocks_unprepared.keys():\n",
    "    print(k)\n",
    "    stocks_unprepared[k] = stocks_unprepared[k].sample(frac=1)#shuffle df\n",
    "    X = stocks_unprepared[k].loc[:,].values[:, 1:6]#Open, High, Low, Close, Volume\n",
    "    Y = stocks_unprepared[k].loc[:,].values[:, 8:9]#Win_open\n",
    "    X=X.astype('float')\n",
    "    Y=Y.astype('int')\n",
    "\n",
    "    seed = 7\n",
    "    kfold = KFold(n_splits=n_folds, random_state=seed)\n",
    "    results = cross_val_score(pipe_rf, X, np.ravel(Y), cv=kfold)\n",
    "    print(results)\n",
    "    print(results.mean())\n",
    "    results_rf_up.append(results.mean())\n",
    "print((np.max(results_rf_up)-np.min(results_rf_up))*100)"
   ]
  },
  {
   "cell_type": "code",
   "execution_count": 268,
   "metadata": {
    "ExecuteTime": {
     "end_time": "2018-10-13T22:27:44.988957Z",
     "start_time": "2018-10-13T22:27:44.426539Z"
    },
    "collapsed": false
   },
   "outputs": [
    {
     "name": "stdout",
     "output_type": "stream",
     "text": [
      "LR: 0.6540183813261375\n",
      "SVM: 0.5224637599367576\n",
      "RF: 0.6595873734005101\n"
     ]
    },
    {
     "data": {
      "image/png": "[encoded data removed]",
      "text/plain": [
       "<matplotlib.figure.Figure at 0x282f9522dd8>"
      ]
     },
     "metadata": {},
     "output_type": "display_data"
    }
   ],
   "source": [
    "x1 = np.linspace(0, len(results_lr_up)-1, len(results_lr_up))\n",
    "\n",
    "y11 = results_lr_up\n",
    "\n",
    "y21 = results_svm_up\n",
    "\n",
    "y31 = results_rf_up\n",
    "plt.figure(figsize=(15,12))\n",
    "\n",
    "plt.subplot(2, 2, 1)\n",
    "plt.title('Logistische Regression')\n",
    "l11,=plt.plot(x1, y11,  marker='o')\n",
    "plt.legend([l11],[\"Präzision\"],loc='upper left')\n",
    "plt.xlabel('Aktie')\n",
    "plt.ylabel('Präzision der Vorhersage')\n",
    "\n",
    "plt.subplot(2, 2, 2)\n",
    "plt.title('Support Vector Machine')\n",
    "l21,=plt.plot(x1, y21,  marker='o')\n",
    "plt.legend([l21],[\"Präzision\"],loc='upper left')\n",
    "plt.xlabel('Aktie')\n",
    "plt.ylabel('Präzision der Vorhersage')\n",
    "\n",
    "plt.subplot(2, 2, 3)\n",
    "plt.title('Random Forest Classifier')\n",
    "l31,=plt.plot(x1, y31,  marker='o')\n",
    "plt.legend([l31],[\"Präzision\"],loc='upper left')\n",
    "plt.xlabel('Aktie')\n",
    "plt.ylabel('Präzision der Vorhersage')\n",
    "\n",
    "print('LR:', sum(results_lr_up)/len(results_lr_up))\n",
    "print('SVM:', sum(results_svm_up)/len(results_svm_up))\n",
    "print('RF:', sum(results_rf_up)/len(results_rf_up))\n",
    "plt.show()"
   ]
  },
  {
   "cell_type": "markdown",
   "metadata": {},
   "source": [
    "Die Lineare Regression hat erstaunlicherweise eine Präzision von über 80% für die Microsoft-Aktie hinbekommen. Dieser Fall wird im Folgenden genauer betrachtet."
   ]
  },
  {
   "cell_type": "code",
   "execution_count": 260,
   "metadata": {
    "ExecuteTime": {
     "end_time": "2018-10-13T20:00:56.054028Z",
     "start_time": "2018-10-13T20:00:55.806728Z"
    },
    "collapsed": false
   },
   "outputs": [
    {
     "name": "stdout",
     "output_type": "stream",
     "text": [
      "0.804\n"
     ]
    },
    {
     "data": {
      "text/plain": [
       "<matplotlib.text.Text at 0x282f8710320>"
      ]
     },
     "execution_count": 260,
     "metadata": {},
     "output_type": "execute_result"
    },
    {
     "data": {
      "image/png": "[encoded data removed]",
      "text/plain": [
       "<matplotlib.figure.Figure at 0x282f870ec50>"
      ]
     },
     "metadata": {},
     "output_type": "display_data"
    }
   ],
   "source": [
    "%matplotlib inline\n",
    "X = stocks_unprepared['MSFT'].loc[:,['Open', 'High', 'Low', 'Close', 'Volume']]#Open, High, Low, Close, Volume\n",
    "Y = stocks_unprepared['MSFT'].loc[:,['Win_Open']]#Win_open\n",
    "\n",
    "X=X.astype('float')\n",
    "Y=Y.astype('int')\n",
    "\n",
    "x_train, x_test, y_train, y_test = train_test_split(X, Y, test_size=.25)\n",
    "\n",
    "pipe_lr.fit(x_train, np.ravel(y_train))\n",
    "\n",
    "predictionsLR=pipe_lr.predict(x_test)\n",
    "\n",
    "print(pipe_lr.score(x_test, y_test))\n",
    "\n",
    "cmLR=metrics.confusion_matrix(y_test, predictionsLR)\n",
    "\n",
    "plt.figure(figsize=(7,6))\n",
    "plt.title('Confusion Matrix für Microsoft, RFC, ohne Vorverarbeitung')\n",
    "sns.heatmap(cmLR, annot=True, fmt=\".3f\", linewidths=.5, square=True, cmap='Blues_r')\n",
    "plt.ylabel('Richtige Klasse')\n",
    "plt.xlabel('Vorhergesagte Klasse')"
   ]
  },
  {
   "cell_type": "markdown",
   "metadata": {},
   "source": [
    "## Classification Report"
   ]
  },
  {
   "cell_type": "code",
   "execution_count": 261,
   "metadata": {
    "ExecuteTime": {
     "end_time": "2018-10-13T20:00:59.915752Z",
     "start_time": "2018-10-13T20:00:59.909772Z"
    },
    "collapsed": false
   },
   "outputs": [
    {
     "name": "stdout",
     "output_type": "stream",
     "text": [
      "             precision    recall  f1-score   support\n",
      "\n",
      "          0       0.82      0.77      0.79       493\n",
      "          1       0.79      0.84      0.81       507\n",
      "\n",
      "avg / total       0.81      0.80      0.80      1000\n",
      "\n"
     ]
    }
   ],
   "source": [
    "print(classification_report(y_test, predictionsLR))"
   ]
  }
 ],
 "metadata": {
  "anaconda-cloud": {},
  "kernelspec": {
   "display_name": "Python [conda root]",
   "language": "python",
   "name": "conda-root-py"
  },
  "language_info": {
   "codemirror_mode": {
    "name": "ipython",
    "version": 3
   },
   "file_extension": ".py",
   "mimetype": "text/x-python",
   "name": "python",
   "nbconvert_exporter": "python",
   "pygments_lexer": "ipython3",
   "version": "3.5.2"
  },
  "varInspector": {
   "cols": {
    "lenName": 16,
    "lenType": 16,
    "lenVar": 40
   },
   "kernels_config": {
    "python": {
     "delete_cmd_postfix": "",
     "delete_cmd_prefix": "del ",
     "library": "var_list.py",
     "varRefreshCmd": "print(var_dic_list())"
    },
    "r": {
     "delete_cmd_postfix": ") ",
     "delete_cmd_prefix": "rm(",
     "library": "var_list.r",
     "varRefreshCmd": "cat(var_dic_list()) "
    }
   },
   "types_to_exclude": [
    "module",
    "function",
    "builtin_function_or_method",
    "instance",
    "_Feature"
   ],
   "window_display": false
  }
 },
 "nbformat": 4,
 "nbformat_minor": 2
}
